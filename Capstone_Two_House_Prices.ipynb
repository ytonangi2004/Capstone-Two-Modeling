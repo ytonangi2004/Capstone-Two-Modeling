{
 "cells": [
  {
   "cell_type": "markdown",
   "metadata": {},
   "source": [
    "  This script to predict house prices ( Kent County,Washington State )"
   ]
  },
  {
   "cell_type": "code",
   "execution_count": 760,
   "metadata": {},
   "outputs": [],
   "source": [
    "import numpy as np\n",
    "import pandas as pd\n",
    "import matplotlib.pyplot as plt\n",
    "import seaborn as sns\n",
    "%matplotlib inline\n",
    "import sys\n",
    "import os\n",
    "import warnings\n",
    "warnings.filterwarnings('ignore')"
   ]
  },
  {
   "cell_type": "code",
   "execution_count": 761,
   "metadata": {},
   "outputs": [],
   "source": [
    "sys.path.append('/Users/aditonangi/Library/Python/3.8/lib/python/site-packages')\n",
    "sys.path.append('/Library/Frameworks/Python.framework/Versions/3.8/lib/python3.8/keras')\n",
    "sys.path.append('/opt/anaconda3/lib/python3.7/xgboost')\n",
    "### sys.path.append('/Library/Frameworks/Python.framework/Versions/3.8/lib/python3.8/site-packages')"
   ]
  },
  {
   "cell_type": "code",
   "execution_count": 762,
   "metadata": {},
   "outputs": [],
   "source": [
    "### import sys\n",
    "### import os\n",
    "\n",
    "### for p in sys.path:\n",
    "###     print(p)"
   ]
  },
  {
   "cell_type": "code",
   "execution_count": 763,
   "metadata": {},
   "outputs": [],
   "source": [
    "### os.getcwd()"
   ]
  },
  {
   "cell_type": "code",
   "execution_count": 764,
   "metadata": {},
   "outputs": [],
   "source": [
    "df = pd.read_excel('kc_house_data.xls', sheet_name='House_Prices')  "
   ]
  },
  {
   "cell_type": "code",
   "execution_count": 765,
   "metadata": {},
   "outputs": [
    {
     "data": {
      "text/plain": [
       "(211, 17)"
      ]
     },
     "execution_count": 765,
     "metadata": {},
     "output_type": "execute_result"
    }
   ],
   "source": [
    "df.shape"
   ]
  },
  {
   "cell_type": "code",
   "execution_count": 766,
   "metadata": {},
   "outputs": [],
   "source": [
    "### df = df.drop(['floors'], axis=1)"
   ]
  },
  {
   "cell_type": "code",
   "execution_count": 767,
   "metadata": {},
   "outputs": [
    {
     "data": {
      "text/html": [
       "<div>\n",
       "<style scoped>\n",
       "    .dataframe tbody tr th:only-of-type {\n",
       "        vertical-align: middle;\n",
       "    }\n",
       "\n",
       "    .dataframe tbody tr th {\n",
       "        vertical-align: top;\n",
       "    }\n",
       "\n",
       "    .dataframe thead th {\n",
       "        text-align: right;\n",
       "    }\n",
       "</style>\n",
       "<table border=\"1\" class=\"dataframe\">\n",
       "  <thead>\n",
       "    <tr style=\"text-align: right;\">\n",
       "      <th></th>\n",
       "      <th>price</th>\n",
       "      <th>bedrooms</th>\n",
       "      <th>bathrooms</th>\n",
       "      <th>sqft_living</th>\n",
       "      <th>sqft_lot</th>\n",
       "      <th>floors</th>\n",
       "      <th>waterfront</th>\n",
       "      <th>view</th>\n",
       "      <th>condition</th>\n",
       "      <th>grade</th>\n",
       "      <th>sqft_above</th>\n",
       "      <th>sqft_basement</th>\n",
       "      <th>yr_built</th>\n",
       "      <th>yr_renovated</th>\n",
       "      <th>zipcode</th>\n",
       "      <th>sqft_living15</th>\n",
       "      <th>sqft_lot15</th>\n",
       "    </tr>\n",
       "  </thead>\n",
       "  <tbody>\n",
       "    <tr>\n",
       "      <th>0</th>\n",
       "      <td>221900</td>\n",
       "      <td>3</td>\n",
       "      <td>1.00</td>\n",
       "      <td>1180</td>\n",
       "      <td>5650</td>\n",
       "      <td>1.0</td>\n",
       "      <td>0</td>\n",
       "      <td>0</td>\n",
       "      <td>3</td>\n",
       "      <td>7</td>\n",
       "      <td>1180</td>\n",
       "      <td>0</td>\n",
       "      <td>1955</td>\n",
       "      <td>0</td>\n",
       "      <td>98178</td>\n",
       "      <td>1340</td>\n",
       "      <td>5650</td>\n",
       "    </tr>\n",
       "    <tr>\n",
       "      <th>1</th>\n",
       "      <td>538000</td>\n",
       "      <td>3</td>\n",
       "      <td>2.25</td>\n",
       "      <td>2570</td>\n",
       "      <td>7242</td>\n",
       "      <td>2.0</td>\n",
       "      <td>0</td>\n",
       "      <td>0</td>\n",
       "      <td>3</td>\n",
       "      <td>7</td>\n",
       "      <td>2170</td>\n",
       "      <td>400</td>\n",
       "      <td>1951</td>\n",
       "      <td>1991</td>\n",
       "      <td>98125</td>\n",
       "      <td>1690</td>\n",
       "      <td>7639</td>\n",
       "    </tr>\n",
       "    <tr>\n",
       "      <th>2</th>\n",
       "      <td>180000</td>\n",
       "      <td>2</td>\n",
       "      <td>1.00</td>\n",
       "      <td>770</td>\n",
       "      <td>10000</td>\n",
       "      <td>1.0</td>\n",
       "      <td>0</td>\n",
       "      <td>0</td>\n",
       "      <td>3</td>\n",
       "      <td>6</td>\n",
       "      <td>770</td>\n",
       "      <td>0</td>\n",
       "      <td>1933</td>\n",
       "      <td>0</td>\n",
       "      <td>98028</td>\n",
       "      <td>2720</td>\n",
       "      <td>8062</td>\n",
       "    </tr>\n",
       "  </tbody>\n",
       "</table>\n",
       "</div>"
      ],
      "text/plain": [
       "    price  bedrooms  bathrooms  sqft_living  sqft_lot  floors  waterfront  \\\n",
       "0  221900         3       1.00         1180      5650     1.0           0   \n",
       "1  538000         3       2.25         2570      7242     2.0           0   \n",
       "2  180000         2       1.00          770     10000     1.0           0   \n",
       "\n",
       "   view  condition  grade  sqft_above  sqft_basement  yr_built  yr_renovated  \\\n",
       "0     0          3      7        1180              0      1955             0   \n",
       "1     0          3      7        2170            400      1951          1991   \n",
       "2     0          3      6         770              0      1933             0   \n",
       "\n",
       "   zipcode  sqft_living15  sqft_lot15  \n",
       "0    98178           1340        5650  \n",
       "1    98125           1690        7639  \n",
       "2    98028           2720        8062  "
      ]
     },
     "execution_count": 767,
     "metadata": {},
     "output_type": "execute_result"
    }
   ],
   "source": [
    "df.head(3)"
   ]
  },
  {
   "cell_type": "code",
   "execution_count": 768,
   "metadata": {},
   "outputs": [
    {
     "data": {
      "text/html": [
       "<div>\n",
       "<style scoped>\n",
       "    .dataframe tbody tr th:only-of-type {\n",
       "        vertical-align: middle;\n",
       "    }\n",
       "\n",
       "    .dataframe tbody tr th {\n",
       "        vertical-align: top;\n",
       "    }\n",
       "\n",
       "    .dataframe thead th {\n",
       "        text-align: right;\n",
       "    }\n",
       "</style>\n",
       "<table border=\"1\" class=\"dataframe\">\n",
       "  <thead>\n",
       "    <tr style=\"text-align: right;\">\n",
       "      <th></th>\n",
       "      <th>price</th>\n",
       "      <th>bedrooms</th>\n",
       "      <th>bathrooms</th>\n",
       "      <th>sqft_living</th>\n",
       "      <th>sqft_lot</th>\n",
       "      <th>floors</th>\n",
       "      <th>waterfront</th>\n",
       "      <th>view</th>\n",
       "      <th>condition</th>\n",
       "      <th>grade</th>\n",
       "      <th>sqft_above</th>\n",
       "      <th>sqft_basement</th>\n",
       "      <th>yr_built</th>\n",
       "      <th>yr_renovated</th>\n",
       "      <th>zipcode</th>\n",
       "      <th>sqft_living15</th>\n",
       "      <th>sqft_lot15</th>\n",
       "    </tr>\n",
       "  </thead>\n",
       "  <tbody>\n",
       "    <tr>\n",
       "      <th>208</th>\n",
       "      <td>402101</td>\n",
       "      <td>2</td>\n",
       "      <td>0.75</td>\n",
       "      <td>1020</td>\n",
       "      <td>1350</td>\n",
       "      <td>2.0</td>\n",
       "      <td>0</td>\n",
       "      <td>0</td>\n",
       "      <td>3</td>\n",
       "      <td>7</td>\n",
       "      <td>1020</td>\n",
       "      <td>0</td>\n",
       "      <td>2009</td>\n",
       "      <td>0</td>\n",
       "      <td>98144</td>\n",
       "      <td>1020</td>\n",
       "      <td>2007</td>\n",
       "    </tr>\n",
       "    <tr>\n",
       "      <th>209</th>\n",
       "      <td>400000</td>\n",
       "      <td>3</td>\n",
       "      <td>2.50</td>\n",
       "      <td>1600</td>\n",
       "      <td>2388</td>\n",
       "      <td>2.0</td>\n",
       "      <td>0</td>\n",
       "      <td>0</td>\n",
       "      <td>3</td>\n",
       "      <td>8</td>\n",
       "      <td>1600</td>\n",
       "      <td>0</td>\n",
       "      <td>2004</td>\n",
       "      <td>0</td>\n",
       "      <td>98027</td>\n",
       "      <td>1410</td>\n",
       "      <td>1287</td>\n",
       "    </tr>\n",
       "    <tr>\n",
       "      <th>210</th>\n",
       "      <td>325000</td>\n",
       "      <td>2</td>\n",
       "      <td>0.75</td>\n",
       "      <td>1020</td>\n",
       "      <td>1076</td>\n",
       "      <td>2.0</td>\n",
       "      <td>0</td>\n",
       "      <td>0</td>\n",
       "      <td>3</td>\n",
       "      <td>7</td>\n",
       "      <td>1020</td>\n",
       "      <td>0</td>\n",
       "      <td>2008</td>\n",
       "      <td>0</td>\n",
       "      <td>98144</td>\n",
       "      <td>1020</td>\n",
       "      <td>1357</td>\n",
       "    </tr>\n",
       "  </tbody>\n",
       "</table>\n",
       "</div>"
      ],
      "text/plain": [
       "      price  bedrooms  bathrooms  sqft_living  sqft_lot  floors  waterfront  \\\n",
       "208  402101         2       0.75         1020      1350     2.0           0   \n",
       "209  400000         3       2.50         1600      2388     2.0           0   \n",
       "210  325000         2       0.75         1020      1076     2.0           0   \n",
       "\n",
       "     view  condition  grade  sqft_above  sqft_basement  yr_built  \\\n",
       "208     0          3      7        1020              0      2009   \n",
       "209     0          3      8        1600              0      2004   \n",
       "210     0          3      7        1020              0      2008   \n",
       "\n",
       "     yr_renovated  zipcode  sqft_living15  sqft_lot15  \n",
       "208             0    98144           1020        2007  \n",
       "209             0    98027           1410        1287  \n",
       "210             0    98144           1020        1357  "
      ]
     },
     "execution_count": 768,
     "metadata": {},
     "output_type": "execute_result"
    }
   ],
   "source": [
    "df.tail(3)"
   ]
  },
  {
   "cell_type": "code",
   "execution_count": 769,
   "metadata": {},
   "outputs": [
    {
     "data": {
      "text/plain": [
       "price            0\n",
       "bedrooms         0\n",
       "bathrooms        0\n",
       "sqft_living      0\n",
       "sqft_lot         0\n",
       "floors           0\n",
       "waterfront       0\n",
       "view             0\n",
       "condition        0\n",
       "grade            0\n",
       "sqft_above       0\n",
       "sqft_basement    0\n",
       "yr_built         0\n",
       "yr_renovated     0\n",
       "zipcode          0\n",
       "sqft_living15    0\n",
       "sqft_lot15       0\n",
       "dtype: int64"
      ]
     },
     "execution_count": 769,
     "metadata": {},
     "output_type": "execute_result"
    }
   ],
   "source": [
    "df.isnull().sum()"
   ]
  },
  {
   "cell_type": "code",
   "execution_count": 770,
   "metadata": {},
   "outputs": [
    {
     "data": {
      "text/plain": [
       "Index(['price', 'bedrooms', 'bathrooms', 'sqft_living', 'sqft_lot', 'floors',\n",
       "       'waterfront', 'view', 'condition', 'grade', 'sqft_above',\n",
       "       'sqft_basement', 'yr_built', 'yr_renovated', 'zipcode', 'sqft_living15',\n",
       "       'sqft_lot15'],\n",
       "      dtype='object')"
      ]
     },
     "execution_count": 770,
     "metadata": {},
     "output_type": "execute_result"
    }
   ],
   "source": [
    "df.columns"
   ]
  },
  {
   "cell_type": "code",
   "execution_count": 771,
   "metadata": {},
   "outputs": [],
   "source": [
    "### Reindexes Columns.. Price moving to end as target\n",
    "df = df.reindex(columns=['bedrooms', 'bathrooms', 'sqft_living',\n",
    "       'sqft_lot', 'floors', 'waterfront', 'view', 'condition', 'grade',\n",
    "       'sqft_above', 'sqft_basement', 'yr_built', 'yr_renovated', 'zipcode',\n",
    "        'sqft_living15', 'sqft_lot15', 'price']) "
   ]
  },
  {
   "cell_type": "code",
   "execution_count": 772,
   "metadata": {},
   "outputs": [
    {
     "data": {
      "text/plain": [
       "Index(['bedrooms', 'bathrooms', 'sqft_living', 'sqft_lot', 'floors',\n",
       "       'waterfront', 'view', 'condition', 'grade', 'sqft_above',\n",
       "       'sqft_basement', 'yr_built', 'yr_renovated', 'zipcode', 'sqft_living15',\n",
       "       'sqft_lot15', 'price'],\n",
       "      dtype='object')"
      ]
     },
     "execution_count": 772,
     "metadata": {},
     "output_type": "execute_result"
    }
   ],
   "source": [
    "df.columns"
   ]
  },
  {
   "cell_type": "code",
   "execution_count": 773,
   "metadata": {},
   "outputs": [
    {
     "data": {
      "text/plain": [
       "(201, 17)"
      ]
     },
     "execution_count": 773,
     "metadata": {},
     "output_type": "execute_result"
    }
   ],
   "source": [
    "df.drop_duplicates(inplace = True)\n",
    "df.shape"
   ]
  },
  {
   "cell_type": "code",
   "execution_count": 774,
   "metadata": {},
   "outputs": [],
   "source": [
    "### print(df.price >1000000.0 )"
   ]
  },
  {
   "cell_type": "code",
   "execution_count": 775,
   "metadata": {},
   "outputs": [
    {
     "data": {
      "text/html": [
       "<div>\n",
       "<style scoped>\n",
       "    .dataframe tbody tr th:only-of-type {\n",
       "        vertical-align: middle;\n",
       "    }\n",
       "\n",
       "    .dataframe tbody tr th {\n",
       "        vertical-align: top;\n",
       "    }\n",
       "\n",
       "    .dataframe thead th {\n",
       "        text-align: right;\n",
       "    }\n",
       "</style>\n",
       "<table border=\"1\" class=\"dataframe\">\n",
       "  <thead>\n",
       "    <tr style=\"text-align: right;\">\n",
       "      <th></th>\n",
       "      <th>bedrooms</th>\n",
       "      <th>bathrooms</th>\n",
       "      <th>sqft_living</th>\n",
       "      <th>sqft_lot</th>\n",
       "      <th>floors</th>\n",
       "      <th>waterfront</th>\n",
       "      <th>view</th>\n",
       "      <th>condition</th>\n",
       "      <th>grade</th>\n",
       "      <th>sqft_above</th>\n",
       "      <th>sqft_basement</th>\n",
       "      <th>yr_built</th>\n",
       "      <th>yr_renovated</th>\n",
       "      <th>zipcode</th>\n",
       "      <th>sqft_living15</th>\n",
       "      <th>sqft_lot15</th>\n",
       "      <th>price</th>\n",
       "    </tr>\n",
       "  </thead>\n",
       "  <tbody>\n",
       "    <tr>\n",
       "      <th>107</th>\n",
       "      <td>3</td>\n",
       "      <td>1.50</td>\n",
       "      <td>1200</td>\n",
       "      <td>1848</td>\n",
       "      <td>2.0</td>\n",
       "      <td>0</td>\n",
       "      <td>0</td>\n",
       "      <td>3</td>\n",
       "      <td>8</td>\n",
       "      <td>1200</td>\n",
       "      <td>0</td>\n",
       "      <td>1966</td>\n",
       "      <td>0</td>\n",
       "      <td>98055</td>\n",
       "      <td>1270</td>\n",
       "      <td>1848</td>\n",
       "      <td>185000</td>\n",
       "    </tr>\n",
       "    <tr>\n",
       "      <th>21</th>\n",
       "      <td>3</td>\n",
       "      <td>2.00</td>\n",
       "      <td>1810</td>\n",
       "      <td>11456</td>\n",
       "      <td>1.0</td>\n",
       "      <td>0</td>\n",
       "      <td>0</td>\n",
       "      <td>3</td>\n",
       "      <td>7</td>\n",
       "      <td>1810</td>\n",
       "      <td>0</td>\n",
       "      <td>1970</td>\n",
       "      <td>0</td>\n",
       "      <td>98045</td>\n",
       "      <td>1360</td>\n",
       "      <td>12931</td>\n",
       "      <td>290000</td>\n",
       "    </tr>\n",
       "    <tr>\n",
       "      <th>163</th>\n",
       "      <td>4</td>\n",
       "      <td>2.75</td>\n",
       "      <td>2260</td>\n",
       "      <td>4440</td>\n",
       "      <td>2.0</td>\n",
       "      <td>0</td>\n",
       "      <td>0</td>\n",
       "      <td>3</td>\n",
       "      <td>7</td>\n",
       "      <td>2260</td>\n",
       "      <td>0</td>\n",
       "      <td>2014</td>\n",
       "      <td>0</td>\n",
       "      <td>98001</td>\n",
       "      <td>2260</td>\n",
       "      <td>4563</td>\n",
       "      <td>341780</td>\n",
       "    </tr>\n",
       "    <tr>\n",
       "      <th>167</th>\n",
       "      <td>2</td>\n",
       "      <td>2.50</td>\n",
       "      <td>980</td>\n",
       "      <td>1020</td>\n",
       "      <td>3.0</td>\n",
       "      <td>0</td>\n",
       "      <td>0</td>\n",
       "      <td>3</td>\n",
       "      <td>8</td>\n",
       "      <td>980</td>\n",
       "      <td>0</td>\n",
       "      <td>2008</td>\n",
       "      <td>0</td>\n",
       "      <td>98117</td>\n",
       "      <td>980</td>\n",
       "      <td>1023</td>\n",
       "      <td>329000</td>\n",
       "    </tr>\n",
       "    <tr>\n",
       "      <th>123</th>\n",
       "      <td>4</td>\n",
       "      <td>3.50</td>\n",
       "      <td>4300</td>\n",
       "      <td>108865</td>\n",
       "      <td>2.0</td>\n",
       "      <td>0</td>\n",
       "      <td>0</td>\n",
       "      <td>3</td>\n",
       "      <td>11</td>\n",
       "      <td>4300</td>\n",
       "      <td>0</td>\n",
       "      <td>2014</td>\n",
       "      <td>0</td>\n",
       "      <td>98074</td>\n",
       "      <td>4650</td>\n",
       "      <td>107498</td>\n",
       "      <td>1450000</td>\n",
       "    </tr>\n",
       "  </tbody>\n",
       "</table>\n",
       "</div>"
      ],
      "text/plain": [
       "     bedrooms  bathrooms  sqft_living  sqft_lot  floors  waterfront  view  \\\n",
       "107         3       1.50         1200      1848     2.0           0     0   \n",
       "21          3       2.00         1810     11456     1.0           0     0   \n",
       "163         4       2.75         2260      4440     2.0           0     0   \n",
       "167         2       2.50          980      1020     3.0           0     0   \n",
       "123         4       3.50         4300    108865     2.0           0     0   \n",
       "\n",
       "     condition  grade  sqft_above  sqft_basement  yr_built  yr_renovated  \\\n",
       "107          3      8        1200              0      1966             0   \n",
       "21           3      7        1810              0      1970             0   \n",
       "163          3      7        2260              0      2014             0   \n",
       "167          3      8         980              0      2008             0   \n",
       "123          3     11        4300              0      2014             0   \n",
       "\n",
       "     zipcode  sqft_living15  sqft_lot15    price  \n",
       "107    98055           1270        1848   185000  \n",
       "21     98045           1360       12931   290000  \n",
       "163    98001           2260        4563   341780  \n",
       "167    98117            980        1023   329000  \n",
       "123    98074           4650      107498  1450000  "
      ]
     },
     "execution_count": 775,
     "metadata": {},
     "output_type": "execute_result"
    }
   ],
   "source": [
    "df.sample(5)"
   ]
  },
  {
   "cell_type": "code",
   "execution_count": 776,
   "metadata": {},
   "outputs": [
    {
     "name": "stdout",
     "output_type": "stream",
     "text": [
      "<class 'pandas.core.frame.DataFrame'>\n",
      "Int64Index: 201 entries, 0 to 210\n",
      "Data columns (total 17 columns):\n",
      " #   Column         Non-Null Count  Dtype  \n",
      "---  ------         --------------  -----  \n",
      " 0   bedrooms       201 non-null    int64  \n",
      " 1   bathrooms      201 non-null    float64\n",
      " 2   sqft_living    201 non-null    int64  \n",
      " 3   sqft_lot       201 non-null    int64  \n",
      " 4   floors         201 non-null    float64\n",
      " 5   waterfront     201 non-null    int64  \n",
      " 6   view           201 non-null    int64  \n",
      " 7   condition      201 non-null    int64  \n",
      " 8   grade          201 non-null    int64  \n",
      " 9   sqft_above     201 non-null    int64  \n",
      " 10  sqft_basement  201 non-null    int64  \n",
      " 11  yr_built       201 non-null    int64  \n",
      " 12  yr_renovated   201 non-null    int64  \n",
      " 13  zipcode        201 non-null    int64  \n",
      " 14  sqft_living15  201 non-null    int64  \n",
      " 15  sqft_lot15     201 non-null    int64  \n",
      " 16  price          201 non-null    int64  \n",
      "dtypes: float64(2), int64(15)\n",
      "memory usage: 28.3 KB\n"
     ]
    }
   ],
   "source": [
    "df.info()"
   ]
  },
  {
   "cell_type": "code",
   "execution_count": 777,
   "metadata": {},
   "outputs": [
    {
     "data": {
      "text/plain": [
       "count    2.010000e+02\n",
       "mean     6.153143e+05\n",
       "std      4.643417e+05\n",
       "min      8.500000e+04\n",
       "25%      3.560000e+05\n",
       "50%      4.750000e+05\n",
       "75%      6.750000e+05\n",
       "max      3.570000e+06\n",
       "Name: price, dtype: float64"
      ]
     },
     "execution_count": 777,
     "metadata": {},
     "output_type": "execute_result"
    }
   ],
   "source": [
    "### exploring target\n",
    "df[\"price\"].describe()"
   ]
  },
  {
   "cell_type": "code",
   "execution_count": 778,
   "metadata": {},
   "outputs": [
    {
     "data": {
      "text/plain": [
       "array([ 221900,  538000,  180000,  604000,  510000,  475000,  900000,\n",
       "        538200,  429000,  164808,  393820,  525000,  505000,  555565,\n",
       "        650000,  632500,  269000,  405000,  845000,  234000, 1010000,\n",
       "        290000, 1350000,  777000,  526000,  550000,  276000, 2500000,\n",
       "        325000,  365000,  450000,  199999,  375000,  600000,  292600,\n",
       "       1040000,  610000,  397450,  382000,  370000,  280000,  356000,\n",
       "        675000,  605000,  690500,  437000,  850000,  350000,  480000,\n",
       "        379500,  320900,  508000,  228950,  433000,  267500,  910000,\n",
       "        320000,  660000,  787888, 1080000,  439000,  335000,  779000,\n",
       "        452000,  775000,  235000,  790000,  903000,  315000,  426000,\n",
       "        395000,  212644,   85000,  295000,  720001,  313950,  415000,\n",
       "       1800000,  236000,  278000,  312000,  539000,  498000,  857000,\n",
       "        780000,  392000,  466200,  641000,  185000,  964000, 2000000,\n",
       "       1870000,  942990,  440000,  390000,  420000, 1410000, 1380000,\n",
       "        462500,  579950,  861111, 1450000,  535000,  585000,  670000,\n",
       "       3000000,  346000, 1330000,  999999,  599000,  332000,  336750,\n",
       "        324000,  338500, 1880000,  402723,  715000,  459000,  589999,\n",
       "        509900,  327000, 1060000,  327500,  249000,  516500,  465000,\n",
       "        388000,  549000,  553000,  530000,  747450,  305000,  540000,\n",
       "        750000,  422000,  337000,  341780,  710200,  690000, 1700000,\n",
       "        329000,  330000,  608500,  230000,  785000,  610950,  399950,\n",
       "       3570000,  579000,  362500,  645000,  594866,  625000,  490000,\n",
       "        380000,  270000,  385000,  414500,  347500, 1220000,  572000,\n",
       "       1090000,  520000,  679950, 1580000,  541800,  810000, 1540000,\n",
       "        467000,  224000,  507250,  610685,  360000,  400000,  402101])"
      ]
     },
     "execution_count": 778,
     "metadata": {},
     "output_type": "execute_result"
    }
   ],
   "source": [
    "df[\"price\"].unique()"
   ]
  },
  {
   "cell_type": "code",
   "execution_count": 779,
   "metadata": {},
   "outputs": [
    {
     "data": {
      "text/plain": [
       "Index(['bedrooms', 'bathrooms', 'sqft_living', 'sqft_lot', 'floors',\n",
       "       'waterfront', 'view', 'condition', 'grade', 'sqft_above',\n",
       "       'sqft_basement', 'yr_built', 'yr_renovated', 'zipcode', 'sqft_living15',\n",
       "       'sqft_lot15', 'price'],\n",
       "      dtype='object')"
      ]
     },
     "execution_count": 779,
     "metadata": {},
     "output_type": "execute_result"
    }
   ],
   "source": [
    "df.columns"
   ]
  },
  {
   "cell_type": "markdown",
   "metadata": {},
   "source": [
    "           Correlaions between house prices and features "
   ]
  },
  {
   "cell_type": "code",
   "execution_count": 780,
   "metadata": {},
   "outputs": [
    {
     "name": "stdout",
     "output_type": "stream",
     "text": [
      "price            1.000000\n",
      "sqft_living      0.753137\n",
      "grade            0.707292\n",
      "sqft_above       0.647830\n",
      "sqft_living15    0.603088\n",
      "bathrooms        0.600291\n",
      "bedrooms         0.460248\n",
      "waterfront       0.451068\n",
      "sqft_basement    0.403199\n",
      "view             0.321237\n",
      "zipcode          0.248305\n",
      "sqft_lot15       0.244235\n",
      "sqft_lot         0.205137\n",
      "yr_built         0.142555\n",
      "yr_renovated     0.076863\n",
      "floors           0.068256\n",
      "condition        0.041991\n",
      "Name: price, dtype: float64\n"
     ]
    }
   ],
   "source": [
    "### All correlations between House Price and all other features\n",
    "print(df.corr()['price'].abs().sort_values(ascending=False))"
   ]
  },
  {
   "cell_type": "markdown",
   "metadata": {},
   "source": [
    "We can see sqft_living, grade, sqft_above, sqft_living15 and bathrooms have the higher correlations"
   ]
  },
  {
   "cell_type": "markdown",
   "metadata": {},
   "source": [
    "### EDA: Exploratory Data Analysis"
   ]
  },
  {
   "cell_type": "code",
   "execution_count": 781,
   "metadata": {},
   "outputs": [
    {
     "name": "stdout",
     "output_type": "stream",
     "text": [
      "370000    4\n",
      "475000    4\n",
      "290000    3\n",
      "350000    3\n",
      "505000    3\n",
      "         ..\n",
      "212644    1\n",
      "845000    1\n",
      "900000    1\n",
      "402723    1\n",
      "480000    1\n",
      "Name: price, Length: 175, dtype: int64\n"
     ]
    },
    {
     "data": {
      "image/png": "[encoded data removed]",
      "text/plain": [
       "<Figure size 432x288 with 1 Axes>"
      ]
     },
     "metadata": {
      "needs_background": "light"
     },
     "output_type": "display_data"
    }
   ],
   "source": [
    "y = df['price']\n",
    "sns.countplot(y)\n",
    "price_temp = df.price.value_counts()\n",
    "print(price_temp)"
   ]
  },
  {
   "cell_type": "code",
   "execution_count": 782,
   "metadata": {},
   "outputs": [
    {
     "data": {
      "text/plain": [
       "[Text(0.5, 0, 'Bedrooms'), Text(0, 0.5, 'House Price in MM $')]"
      ]
     },
     "execution_count": 782,
     "metadata": {},
     "output_type": "execute_result"
    },
    {
     "data": {
      "image/png": "[encoded data removed]",
      "text/plain": [
       "<Figure size 432x288 with 1 Axes>"
      ]
     },
     "metadata": {
      "needs_background": "light"
     },
     "output_type": "display_data"
    }
   ],
   "source": [
    "ax = sns.barplot(df['bedrooms'],y)\n",
    "ax.set(xlabel='Bedrooms', ylabel='House Price in MM $')"
   ]
  },
  {
   "cell_type": "code",
   "execution_count": 783,
   "metadata": {},
   "outputs": [
    {
     "data": {
      "text/plain": [
       "[Text(0.5, 0, 'Bathrooms'), Text(0, 0.5, 'House Price in MM $')]"
      ]
     },
     "execution_count": 783,
     "metadata": {},
     "output_type": "execute_result"
    },
    {
     "data": {
      "image/png": "[encoded data removed]",
      "text/plain": [
       "<Figure size 432x288 with 1 Axes>"
      ]
     },
     "metadata": {
      "needs_background": "light"
     },
     "output_type": "display_data"
    }
   ],
   "source": [
    "ax=sns.barplot(df['bathrooms'],y)\n",
    "ax.set(xlabel='Bathrooms', ylabel='House Price in MM $')"
   ]
  },
  {
   "cell_type": "code",
   "execution_count": 784,
   "metadata": {},
   "outputs": [
    {
     "data": {
      "text/plain": [
       "array([3, 2, 4, 5, 1, 6])"
      ]
     },
     "execution_count": 784,
     "metadata": {},
     "output_type": "execute_result"
    }
   ],
   "source": [
    "### Explore Bedrooms\n",
    "df['bedrooms'].unique()"
   ]
  },
  {
   "cell_type": "code",
   "execution_count": 785,
   "metadata": {},
   "outputs": [
    {
     "data": {
      "text/plain": [
       "[Text(0.5, 0, 'Bathrooms'), Text(0, 0.5, 'House Price in MM $ ')]"
      ]
     },
     "execution_count": 785,
     "metadata": {},
     "output_type": "execute_result"
    },
    {
     "data": {
      "image/png": "[encoded data removed]",
      "text/plain": [
       "<Figure size 432x288 with 1 Axes>"
      ]
     },
     "metadata": {
      "needs_background": "light"
     },
     "output_type": "display_data"
    }
   ],
   "source": [
    "ax = sns.barplot(df['bathrooms'],y)\n",
    "ax.set(xlabel='Bathrooms', ylabel='House Price in MM $ ')"
   ]
  },
  {
   "cell_type": "code",
   "execution_count": 786,
   "metadata": {},
   "outputs": [
    {
     "data": {
      "text/plain": [
       "array([0, 1])"
      ]
     },
     "execution_count": 786,
     "metadata": {},
     "output_type": "execute_result"
    }
   ],
   "source": [
    "### Analyse waterfront\n",
    "df['waterfront'].unique()"
   ]
  },
  {
   "cell_type": "code",
   "execution_count": 787,
   "metadata": {},
   "outputs": [
    {
     "data": {
      "text/plain": [
       "[Text(0.5, 0, 'Water Front'), Text(0, 0.5, 'House Price in MM $ ')]"
      ]
     },
     "execution_count": 787,
     "metadata": {},
     "output_type": "execute_result"
    },
    {
     "data": {
      "image/png": "[encoded data removed]",
      "text/plain": [
       "<Figure size 432x288 with 1 Axes>"
      ]
     },
     "metadata": {
      "needs_background": "light"
     },
     "output_type": "display_data"
    }
   ],
   "source": [
    "ax = sns.barplot(df['waterfront'],y)\n",
    "ax.set(xlabel='Water Front', ylabel = 'House Price in MM $ ')"
   ]
  },
  {
   "cell_type": "code",
   "execution_count": 788,
   "metadata": {},
   "outputs": [
    {
     "data": {
      "text/plain": [
       "array([98178, 98125, 98028, 98136, 98074, 98072, 98007, 98008, 98122,\n",
       "       98115, 98108, 98117, 98033, 98177, 98065, 98038, 98034, 98077,\n",
       "       98032, 98005, 98045, 98004, 98027, 98107, 98119, 98198, 98144,\n",
       "       98118, 98126, 98010, 98056, 98040, 98105, 98042, 98155, 98112,\n",
       "       98053, 98059, 98052, 98023, 98106, 98092, 98199, 98003, 98001,\n",
       "       98133, 98103, 98029, 98039, 98055, 98116, 98075, 98030, 98006,\n",
       "       98166, 98109, 98102, 98146])"
      ]
     },
     "execution_count": 788,
     "metadata": {},
     "output_type": "execute_result"
    }
   ],
   "source": [
    "### Zipcodes\n",
    "df['zipcode'].unique()"
   ]
  },
  {
   "cell_type": "code",
   "execution_count": 789,
   "metadata": {},
   "outputs": [
    {
     "data": {
      "text/plain": [
       "[Text(0.5, 0, 'Zipcode'), Text(0, 0.5, 'House Price in MM $')]"
      ]
     },
     "execution_count": 789,
     "metadata": {},
     "output_type": "execute_result"
    },
    {
     "data": {
      "image/png": "[encoded data removed]",
      "text/plain": [
       "<Figure size 432x288 with 1 Axes>"
      ]
     },
     "metadata": {
      "needs_background": "light"
     },
     "output_type": "display_data"
    }
   ],
   "source": [
    "ax = sns.barplot(df['zipcode'], y)\n",
    "ax.set(xlabel='Zipcode', ylabel = 'House Price in MM $')"
   ]
  },
  {
   "cell_type": "code",
   "execution_count": 790,
   "metadata": {},
   "outputs": [
    {
     "data": {
      "text/plain": [
       "array([   0, 1991, 1975, 1994])"
      ]
     },
     "execution_count": 790,
     "metadata": {},
     "output_type": "execute_result"
    }
   ],
   "source": [
    "### Year renovated\n",
    "df['yr_renovated'].unique()"
   ]
  },
  {
   "cell_type": "code",
   "execution_count": 791,
   "metadata": {},
   "outputs": [
    {
     "data": {
      "text/plain": [
       "[Text(0.5, 0, 'Year Renovated'), Text(0, 0.5, 'House Price in MM $')]"
      ]
     },
     "execution_count": 791,
     "metadata": {},
     "output_type": "execute_result"
    },
    {
     "data": {
      "image/png": "[encoded data removed]",
      "text/plain": [
       "<Figure size 432x288 with 1 Axes>"
      ]
     },
     "metadata": {
      "needs_background": "light"
     },
     "output_type": "display_data"
    }
   ],
   "source": [
    "ax = sns.barplot(df['yr_renovated'],y)\n",
    "ax.set(xlabel='Year Renovated', ylabel='House Price in MM $')"
   ]
  },
  {
   "cell_type": "code",
   "execution_count": 792,
   "metadata": {},
   "outputs": [
    {
     "data": {
      "text/plain": [
       "array([3, 5, 4, 2])"
      ]
     },
     "execution_count": 792,
     "metadata": {},
     "output_type": "execute_result"
    }
   ],
   "source": [
    "### condition\n",
    "df['condition'].unique()"
   ]
  },
  {
   "cell_type": "code",
   "execution_count": 793,
   "metadata": {},
   "outputs": [
    {
     "data": {
      "text/plain": [
       "[Text(0.5, 0, 'Condition'), Text(0, 0.5, 'House Price in $')]"
      ]
     },
     "execution_count": 793,
     "metadata": {},
     "output_type": "execute_result"
    },
    {
     "data": {
      "image/png": "[encoded data removed]",
      "text/plain": [
       "<Figure size 432x288 with 1 Axes>"
      ]
     },
     "metadata": {
      "needs_background": "light"
     },
     "output_type": "display_data"
    }
   ],
   "source": [
    "ax = sns.barplot(df['condition'],y)\n",
    "ax.set(xlabel = 'Condition', ylabel = 'House Price in $')"
   ]
  },
  {
   "cell_type": "code",
   "execution_count": 794,
   "metadata": {},
   "outputs": [
    {
     "data": {
      "text/plain": [
       "[Text(0.5, 0, 'View'), Text(0, 0.5, 'House Price in MM $')]"
      ]
     },
     "execution_count": 794,
     "metadata": {},
     "output_type": "execute_result"
    },
    {
     "data": {
      "image/png": "[encoded data removed]",
      "text/plain": [
       "<Figure size 432x288 with 1 Axes>"
      ]
     },
     "metadata": {
      "needs_background": "light"
     },
     "output_type": "display_data"
    }
   ],
   "source": [
    "ax = sns.barplot(df['view'], y)\n",
    "ax.set(xlabel='View', ylabel='House Price in MM $')"
   ]
  },
  {
   "cell_type": "markdown",
   "metadata": {},
   "source": [
    "                           Train Test split"
   ]
  },
  {
   "cell_type": "code",
   "execution_count": 795,
   "metadata": {},
   "outputs": [],
   "source": [
    "from sklearn.model_selection import train_test_split"
   ]
  },
  {
   "cell_type": "code",
   "execution_count": 796,
   "metadata": {},
   "outputs": [],
   "source": [
    "predictors = df.drop(\"price\",axis=1)\n",
    "price = df[\"price\"]"
   ]
  },
  {
   "cell_type": "code",
   "execution_count": 797,
   "metadata": {},
   "outputs": [
    {
     "data": {
      "text/plain": [
       "(160, 16)"
      ]
     },
     "execution_count": 797,
     "metadata": {},
     "output_type": "execute_result"
    }
   ],
   "source": [
    "X_train,X_test,y_train,y_test = train_test_split(predictors,price,test_size=0.20,random_state=0)\n",
    "\n",
    "X_train.shape"
   ]
  },
  {
   "cell_type": "code",
   "execution_count": 798,
   "metadata": {},
   "outputs": [
    {
     "data": {
      "text/plain": [
       "(41, 16)"
      ]
     },
     "execution_count": 798,
     "metadata": {},
     "output_type": "execute_result"
    }
   ],
   "source": [
    "X_test.shape"
   ]
  },
  {
   "cell_type": "code",
   "execution_count": 799,
   "metadata": {},
   "outputs": [
    {
     "data": {
      "text/plain": [
       "(160, 16)"
      ]
     },
     "execution_count": 799,
     "metadata": {},
     "output_type": "execute_result"
    }
   ],
   "source": [
    "X_train.shape"
   ]
  },
  {
   "cell_type": "code",
   "execution_count": 800,
   "metadata": {},
   "outputs": [
    {
     "data": {
      "text/plain": [
       "(160,)"
      ]
     },
     "execution_count": 800,
     "metadata": {},
     "output_type": "execute_result"
    }
   ],
   "source": [
    "y_train.shape"
   ]
  },
  {
   "cell_type": "code",
   "execution_count": 801,
   "metadata": {},
   "outputs": [
    {
     "data": {
      "text/plain": [
       "(41,)"
      ]
     },
     "execution_count": 801,
     "metadata": {},
     "output_type": "execute_result"
    }
   ],
   "source": [
    "y_test.shape"
   ]
  },
  {
   "cell_type": "code",
   "execution_count": 802,
   "metadata": {},
   "outputs": [],
   "source": [
    "### V. Model Fitting\n",
    "from sklearn.metrics import accuracy_score\n",
    "### from sklearn.metrics import accuracy_score accuracy_score(ytest, y_model)\n"
   ]
  },
  {
   "cell_type": "code",
   "execution_count": 803,
   "metadata": {},
   "outputs": [
    {
     "name": "stdout",
     "output_type": "stream",
     "text": [
      "The accuracy score achieved using Logistic Regression is: 0.0 %\n"
     ]
    }
   ],
   "source": [
    "### Logistic Regression\n",
    "from sklearn.linear_model import LogisticRegression\n",
    "lr = LogisticRegression()\n",
    "lr.fit(X_train,y_train)\n",
    "y_pred_lr = lr.predict(X_test)\n",
    "\n",
    "score_lr = round(accuracy_score(y_pred_lr,y_test)*100,2)\n",
    "print(\"The accuracy score achieved using Logistic Regression is: \"+str(score_lr)+\" %\")\n",
    "### The accuracy score achieved using Logistic Regression is: 0.86%"
   ]
  },
  {
   "cell_type": "code",
   "execution_count": 804,
   "metadata": {},
   "outputs": [
    {
     "name": "stdout",
     "output_type": "stream",
     "text": [
      "The accuracy score achieved using Naive Bayes is: 0.0 %\n"
     ]
    }
   ],
   "source": [
    "### Naive Bayes\n",
    "from sklearn.naive_bayes import GaussianNB\n",
    "nb = GaussianNB()\n",
    "nb.fit(X_train,y_train)\n",
    "y_pred_nb = nb.predict(X_test)\n",
    "y_pred_nb.shape\n",
    "score_nb = round(accuracy_score(y_pred_nb,y_test)*100,2)\n",
    "print(\"The accuracy score achieved using Naive Bayes is: \"+str(score_nb)+\" %\")\n",
    "### The accuracy score achieved using Naive Bayes is: 0.07%"
   ]
  },
  {
   "cell_type": "code",
   "execution_count": 805,
   "metadata": {},
   "outputs": [
    {
     "name": "stdout",
     "output_type": "stream",
     "text": [
      "The accuracy score achieved using Linear Support Vector Machines is: 2.44 %\n"
     ]
    }
   ],
   "source": [
    "### SVM        Support Vector Machines Taking more than TWO Hours for 21607 Rows & 17 Columns (1.4 MB size)\n",
    "from sklearn import svm\n",
    "sv = svm.SVC(kernel='linear')\n",
    "sv.fit(X_train, y_train)\n",
    "y_pred_svm = sv.predict(X_test)\n",
    "y_pred_svm.shape\n",
    "score_svm = round(accuracy_score(y_pred_svm,y_test)*100,2)\n",
    "print(\"The accuracy score achieved using Linear Support Vector Machines is: \"+str(score_svm)+\" %\")\n",
    "### The accuracy score achieved using Linear SVM is: 2.44%"
   ]
  },
  {
   "cell_type": "code",
   "execution_count": 806,
   "metadata": {},
   "outputs": [
    {
     "name": "stdout",
     "output_type": "stream",
     "text": [
      "The accuracy score achieved using KNN is: 0.0 %\n"
     ]
    }
   ],
   "source": [
    "### K Nearest Neighbors\n",
    "from sklearn.neighbors import KNeighborsClassifier\n",
    "knn = KNeighborsClassifier(n_neighbors=7)\n",
    "knn.fit(X_train,y_train)\n",
    "y_pred_knn=knn.predict(X_test)\n",
    "y_pred_knn.shape\n",
    "score_knn = round(accuracy_score(y_pred_knn,y_test)*100,2)\n",
    "print(\"The accuracy score achieved using KNN is: \"+str(score_knn)+\" %\")\n",
    "### The accuracy score achieved using KNN is: 0.51%"
   ]
  },
  {
   "cell_type": "code",
   "execution_count": 807,
   "metadata": {},
   "outputs": [
    {
     "name": "stdout",
     "output_type": "stream",
     "text": [
      "(41,)\n",
      "The accuracy score achieved using Decision Tree is: 2.44 %\n"
     ]
    }
   ],
   "source": [
    "### Decision Tree\n",
    "from sklearn.tree import DecisionTreeClassifier\n",
    "max_accuracy = 0\n",
    "for x in range(200):\n",
    "    dt = DecisionTreeClassifier(random_state=x)\n",
    "    dt.fit(X_train,y_train)\n",
    "    y_pred_dt = dt.predict(X_test)\n",
    "    current_accuracy = round(accuracy_score(y_pred_dt,y_test)*100,2)\n",
    "    if(current_accuracy>max_accuracy):\n",
    "        max_accuracy = current_accuracy\n",
    "        best_x = x        \n",
    "#print(max_accuracy)\n",
    "#print(best_x)\n",
    "dt = DecisionTreeClassifier(random_state=best_x)\n",
    "dt.fit(X_train,y_train)\n",
    "y_pred_dt = dt.predict(X_test)\n",
    "print(y_pred_dt.shape)\n",
    "score_dt = round(accuracy_score(y_pred_dt,y_test)*100,2)\n",
    "print(\"The accuracy score achieved using Decision Tree is: \"+str(score_dt)+\" %\")\n",
    "### The accuracy score achieved using Decision Tree is: 2.44"
   ]
  },
  {
   "cell_type": "code",
   "execution_count": 808,
   "metadata": {},
   "outputs": [],
   "source": [
    "### XGBoost\n",
    "### import xgboost as xgb\n",
    "### xgb_model = xgb.XGBClassifier(objective=\"binary:logistic\", random_state=42)\n",
    "### xgb_model.fit(X_train, y_train)\n",
    "### y_pred_xgb = xgb_model.predict(X_test)\n",
    "### print(y_pred_xgb.shape)\n",
    "### score_xgb = round(accuracy_score(y_pred_xgb,y_test)*100,2)\n",
    "### print(\"The accuracy score achieved using XGBoost is: \"+str(score_xgb)+\" %\")\n",
    "### The accuracy score achieved using XGBoost is: "
   ]
  },
  {
   "cell_type": "code",
   "execution_count": 809,
   "metadata": {},
   "outputs": [
    {
     "name": "stdout",
     "output_type": "stream",
     "text": [
      "(41,)\n",
      "The accuracy score achieved using Random Forest is: 4.88 %\n"
     ]
    }
   ],
   "source": [
    "### Random Forest\n",
    "from sklearn.ensemble import RandomForestClassifier\n",
    "max_accuracy = 0\n",
    "for x in range(200):\n",
    "    rf = RandomForestClassifier(random_state=x)\n",
    "    rf.fit(X_train,y_train)\n",
    "    y_pred_rf = rf.predict(X_test)\n",
    "    current_accuracy = round(accuracy_score(y_pred_rf,y_test)*100,2)\n",
    "    if(current_accuracy>max_accuracy):\n",
    "        max_accuracy = current_accuracy\n",
    "        best_x = x\n",
    "\n",
    "rf = RandomForestClassifier(random_state=best_x)\n",
    "rf.fit(X_train,y_train)\n",
    "y_pred_rf = rf.predict(X_test)\n",
    "y_pred_rf.shape\n",
    "print(y_pred_rf.shape)\n",
    "score_rf = round(accuracy_score(y_pred_rf,y_test)*100,2)\n",
    "print(\"The accuracy score achieved using Random Forest is: \"+str(score_rf)+\" %\")\n",
    "### The accuracy score achieved using Decision Tree is:"
   ]
  },
  {
   "cell_type": "code",
   "execution_count": 810,
   "metadata": {},
   "outputs": [],
   "source": [
    "### Neural Network\n",
    "### from keras.models import Sequential\n",
    "### from keras.layers import Dense\n",
    "### Using TensorFlow backend.\n",
    "### https://stats.stackexchange.com/a/136542 helped a lot in avoiding overfitting\n",
    "### model = Sequential()\n",
    "### model.add(Dense(11,activation='relu',input_dim=13))\n",
    "### model.add(Dense(1,activation='sigmoid'))\n",
    "### model.compile(loss='binary_crossentropy',optimizer='adam',metrics=['accuracy'])\n",
    "### model.fit(X_train,y_train,epochs=300)\n",
    "### y_pred_nn = model.predict(X_test)\n",
    "### print(y_pred_nn.shape)\n",
    "### rounded = [round(x[0]) for x in y_pred_nn]\n",
    "### print(y_pred_nn = rounded)\n",
    "### score_nn = round(accuracy_score(y_pred_nn,y_test)*100,2)\n",
    "### print(\"The accuracy score achieved using Neural Network is: \"+str(score_nn)+\" %\")\n",
    "### Note: Accuracy of 85% can be achieved on the test set, by setting epochs=2000, and number of nodes = 11.\n",
    "### The accuracy score achieved using Neural Network is: \n",
    "### ImportError: Keras requires TensorFlow 2.2 or higher. Install TensorFlow via `pip install tensorflow`"
   ]
  },
  {
   "cell_type": "markdown",
   "metadata": {},
   "source": [
    "*************************************\n",
    "\n",
    "         Output final score\n",
    "         \n",
    "*************************************"
   ]
  },
  {
   "cell_type": "code",
   "execution_count": 811,
   "metadata": {},
   "outputs": [
    {
     "name": "stdout",
     "output_type": "stream",
     "text": [
      "The accuracy score achieved using Logistic Regression is: 0.0 %\n",
      "The accuracy score achieved using Naive Bayes is: 0.0 %\n",
      "The accuracy score achieved using Support Vector Machines is: 2.44 %\n",
      "The accuracy score achieved using K-Nearest Neighbors is: 0.0 %\n",
      "The accuracy score achieved using Decision Tree is: 2.44 %\n",
      "The accuracy score achieved using Random Forest is: 4.88 %\n"
     ]
    },
    {
     "data": {
      "text/plain": [
       "<AxesSubplot:xlabel='Algorithms', ylabel='Accuracy score'>"
      ]
     },
     "execution_count": 811,
     "metadata": {},
     "output_type": "execute_result"
    },
    {
     "data": {
      "image/png": "[encoded data removed]",
      "text/plain": [
       "<Figure size 1080x576 with 1 Axes>"
      ]
     },
     "metadata": {},
     "output_type": "display_data"
    }
   ],
   "source": [
    "scores = [score_lr, score_nb, score_svm, score_knn,score_dt,score_rf]\n",
    "algorithms = [\"Logistic Regression\",\"Naive Bayes\",\"Support Vector Machines\",\"K-Nearest Neighbors\",\"Decision Tree\",\"Random Forest\"]    \n",
    "### print(scores)\n",
    "for i in range(len(algorithms)):\n",
    "    print(\"The accuracy score achieved using \"+algorithms[i]+\" is: \"+str(scores[i])+\" %\")\n",
    "sns.set(rc={'figure.figsize':(15,8)})\n",
    "plt.xlabel(\"Algorithms\")\n",
    "plt.ylabel(\"Accuracy score\")\n",
    "sns.barplot(algorithms,scores)"
   ]
  }
 ],
 "metadata": {
  "kernelspec": {
   "display_name": "Python 3",
   "language": "python",
   "name": "python3"
  },
  "language_info": {
   "codemirror_mode": {
    "name": "ipython",
    "version": 3
   },
   "file_extension": ".py",
   "mimetype": "text/x-python",
   "name": "python",
   "nbconvert_exporter": "python",
   "pygments_lexer": "ipython3",
   "version": "3.7.6"
  }
 },
 "nbformat": 4,
 "nbformat_minor": 4
}
